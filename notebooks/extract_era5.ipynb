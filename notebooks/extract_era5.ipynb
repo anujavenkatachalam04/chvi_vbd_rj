{
  "cells": [
    {
      "cell_type": "code",
      "source": [
        "# !pip install -r https://raw.githubusercontent.com/anujavenkatachalam04/chvi_vbd_rj/main/requirements.txt"
      ],
      "metadata": {
        "id": "XNJGYllMimdQ"
      },
      "execution_count": 1,
      "outputs": []
    },
    {
      "cell_type": "code",
      "source": [
        "import os\n",
        "import pandas as pd\n",
        "import geopandas as gpd\n",
        "import requests\n",
        "from tqdm import tqdm\n",
        "import numpy as np\n",
        "import matplotlib.pyplot as plt\n",
        "import seaborn as sns\n",
        "from google.colab import drive\n",
        "drive.mount('/content/drive')\n",
        "import geopandas as gpd\n",
        "from shapely.geometry import Point\n",
        "import uuid\n"
      ],
      "metadata": {
        "id": "g5JoHTMxiwek",
        "outputId": "499e85b2-9f9d-4082-ce4c-ca7d1aac9c82",
        "colab": {
          "base_uri": "https://localhost:8080/"
        }
      },
      "execution_count": 2,
      "outputs": [
        {
          "output_type": "stream",
          "name": "stdout",
          "text": [
            "Drive already mounted at /content/drive; to attempt to forcibly remount, call drive.mount(\"/content/drive\", force_remount=True).\n"
          ]
        }
      ]
    },
    {
      "cell_type": "code",
      "execution_count": 3,
      "metadata": {
        "id": "6IfTIUpI6m27"
      },
      "outputs": [],
      "source": [
        "os.chdir(\"/content/drive/MyDrive/CHVI\")\n"
      ]
    },
    {
      "cell_type": "code",
      "source": [
        "blocks_shp=gpd.read_file(\"5_Shapefiles/SUBDISTRICT_11/Rajasthan_Blocks.geojson\")"
      ],
      "metadata": {
        "id": "DcTB1Q8YV167"
      },
      "execution_count": 4,
      "outputs": []
    },
    {
      "cell_type": "code",
      "source": [
        "grid=gpd.read_file(\"5_Shapefiles/Rajasthan_10kmx10km_grid.geojson\")"
      ],
      "metadata": {
        "id": "JvjmCyXniAu6"
      },
      "execution_count": 5,
      "outputs": []
    },
    {
      "cell_type": "code",
      "source": [
        "import os\n",
        "import pandas as pd\n",
        "import requests_cache\n",
        "from retry_requests import retry\n",
        "from dotenv import load_dotenv\n",
        "import openmeteo_requests\n",
        "\n",
        "# Load API key from .env  only works for gh\n",
        "# load_dotenv()\n",
        "# OPENMETEO_API_KEY = os.getenv(\"OPENMETEO_API_KEY\")"
      ],
      "metadata": {
        "id": "2BhiRPNBiCvO"
      },
      "execution_count": 6,
      "outputs": []
    },
    {
      "cell_type": "code",
      "source": [
        "grid"
      ],
      "metadata": {
        "id": "3KfvNjQqnuUQ",
        "outputId": "57d62bf1-76ce-432d-8074-1d3554e67a08",
        "colab": {
          "base_uri": "https://localhost:8080/",
          "height": 423
        }
      },
      "execution_count": 11,
      "outputs": [
        {
          "output_type": "execute_result",
          "data": {
            "text/plain": [
              "           NAME   DISTRICT          C_CODE11                        geometry\n",
              "0     Jaisalmer  Jaisalmer  0811400574000000  POINT (-38900.543 2970335.012)\n",
              "1     Jaisalmer  Jaisalmer  0811400574000000  POINT (-38900.543 2980335.012)\n",
              "2     Jaisalmer  Jaisalmer  0811400574000000  POINT (-38900.543 2990335.012)\n",
              "3     Jaisalmer  Jaisalmer  0811400574000000  POINT (-38900.543 3000335.012)\n",
              "4     Jaisalmer  Jaisalmer  0811400574000000  POINT (-38900.543 3010335.012)\n",
              "...         ...        ...               ...                             ...\n",
              "3415  Rajakhera   Dhaulpur  0810600519000000  POINT (801099.457 2960335.012)\n",
              "3416  Rajakhera   Dhaulpur  0810600519000000  POINT (801099.457 2970335.012)\n",
              "3417  Rajakhera   Dhaulpur  0810600519000000  POINT (811099.457 2970335.012)\n",
              "3418  Rajakhera   Dhaulpur  0810600519000000  POINT (811099.457 2980335.012)\n",
              "3419  Rajakhera   Dhaulpur  0810600519000000  POINT (821099.457 2980335.012)\n",
              "\n",
              "[3420 rows x 4 columns]"
            ],
            "text/html": [
              "\n",
              "  <div id=\"df-3c2fe722-be79-449d-a811-c38863c2cc69\" class=\"colab-df-container\">\n",
              "    <div>\n",
              "<style scoped>\n",
              "    .dataframe tbody tr th:only-of-type {\n",
              "        vertical-align: middle;\n",
              "    }\n",
              "\n",
              "    .dataframe tbody tr th {\n",
              "        vertical-align: top;\n",
              "    }\n",
              "\n",
              "    .dataframe thead th {\n",
              "        text-align: right;\n",
              "    }\n",
              "</style>\n",
              "<table border=\"1\" class=\"dataframe\">\n",
              "  <thead>\n",
              "    <tr style=\"text-align: right;\">\n",
              "      <th></th>\n",
              "      <th>NAME</th>\n",
              "      <th>DISTRICT</th>\n",
              "      <th>C_CODE11</th>\n",
              "      <th>geometry</th>\n",
              "    </tr>\n",
              "  </thead>\n",
              "  <tbody>\n",
              "    <tr>\n",
              "      <th>0</th>\n",
              "      <td>Jaisalmer</td>\n",
              "      <td>Jaisalmer</td>\n",
              "      <td>0811400574000000</td>\n",
              "      <td>POINT (-38900.543 2970335.012)</td>\n",
              "    </tr>\n",
              "    <tr>\n",
              "      <th>1</th>\n",
              "      <td>Jaisalmer</td>\n",
              "      <td>Jaisalmer</td>\n",
              "      <td>0811400574000000</td>\n",
              "      <td>POINT (-38900.543 2980335.012)</td>\n",
              "    </tr>\n",
              "    <tr>\n",
              "      <th>2</th>\n",
              "      <td>Jaisalmer</td>\n",
              "      <td>Jaisalmer</td>\n",
              "      <td>0811400574000000</td>\n",
              "      <td>POINT (-38900.543 2990335.012)</td>\n",
              "    </tr>\n",
              "    <tr>\n",
              "      <th>3</th>\n",
              "      <td>Jaisalmer</td>\n",
              "      <td>Jaisalmer</td>\n",
              "      <td>0811400574000000</td>\n",
              "      <td>POINT (-38900.543 3000335.012)</td>\n",
              "    </tr>\n",
              "    <tr>\n",
              "      <th>4</th>\n",
              "      <td>Jaisalmer</td>\n",
              "      <td>Jaisalmer</td>\n",
              "      <td>0811400574000000</td>\n",
              "      <td>POINT (-38900.543 3010335.012)</td>\n",
              "    </tr>\n",
              "    <tr>\n",
              "      <th>...</th>\n",
              "      <td>...</td>\n",
              "      <td>...</td>\n",
              "      <td>...</td>\n",
              "      <td>...</td>\n",
              "    </tr>\n",
              "    <tr>\n",
              "      <th>3415</th>\n",
              "      <td>Rajakhera</td>\n",
              "      <td>Dhaulpur</td>\n",
              "      <td>0810600519000000</td>\n",
              "      <td>POINT (801099.457 2960335.012)</td>\n",
              "    </tr>\n",
              "    <tr>\n",
              "      <th>3416</th>\n",
              "      <td>Rajakhera</td>\n",
              "      <td>Dhaulpur</td>\n",
              "      <td>0810600519000000</td>\n",
              "      <td>POINT (801099.457 2970335.012)</td>\n",
              "    </tr>\n",
              "    <tr>\n",
              "      <th>3417</th>\n",
              "      <td>Rajakhera</td>\n",
              "      <td>Dhaulpur</td>\n",
              "      <td>0810600519000000</td>\n",
              "      <td>POINT (811099.457 2970335.012)</td>\n",
              "    </tr>\n",
              "    <tr>\n",
              "      <th>3418</th>\n",
              "      <td>Rajakhera</td>\n",
              "      <td>Dhaulpur</td>\n",
              "      <td>0810600519000000</td>\n",
              "      <td>POINT (811099.457 2980335.012)</td>\n",
              "    </tr>\n",
              "    <tr>\n",
              "      <th>3419</th>\n",
              "      <td>Rajakhera</td>\n",
              "      <td>Dhaulpur</td>\n",
              "      <td>0810600519000000</td>\n",
              "      <td>POINT (821099.457 2980335.012)</td>\n",
              "    </tr>\n",
              "  </tbody>\n",
              "</table>\n",
              "<p>3420 rows × 4 columns</p>\n",
              "</div>\n",
              "    <div class=\"colab-df-buttons\">\n",
              "      \n",
              "  <div class=\"colab-df-container\">\n",
              "    <button class=\"colab-df-convert\" onclick=\"convertToInteractive('df-3c2fe722-be79-449d-a811-c38863c2cc69')\"\n",
              "            title=\"Convert this dataframe to an interactive table.\"\n",
              "            style=\"display:none;\">\n",
              "      \n",
              "  <svg xmlns=\"http://www.w3.org/2000/svg\" height=\"24px\" viewBox=\"0 -960 960 960\">\n",
              "    <path d=\"M120-120v-720h720v720H120Zm60-500h600v-160H180v160Zm220 220h160v-160H400v160Zm0 220h160v-160H400v160ZM180-400h160v-160H180v160Zm440 0h160v-160H620v160ZM180-180h160v-160H180v160Zm440 0h160v-160H620v160Z\"/>\n",
              "  </svg>\n",
              "    </button>\n",
              "    \n",
              "  <style>\n",
              "    .colab-df-container {\n",
              "      display:flex;\n",
              "      gap: 12px;\n",
              "    }\n",
              "\n",
              "    .colab-df-convert {\n",
              "      background-color: #E8F0FE;\n",
              "      border: none;\n",
              "      border-radius: 50%;\n",
              "      cursor: pointer;\n",
              "      display: none;\n",
              "      fill: #1967D2;\n",
              "      height: 32px;\n",
              "      padding: 0 0 0 0;\n",
              "      width: 32px;\n",
              "    }\n",
              "\n",
              "    .colab-df-convert:hover {\n",
              "      background-color: #E2EBFA;\n",
              "      box-shadow: 0px 1px 2px rgba(60, 64, 67, 0.3), 0px 1px 3px 1px rgba(60, 64, 67, 0.15);\n",
              "      fill: #174EA6;\n",
              "    }\n",
              "\n",
              "    .colab-df-buttons div {\n",
              "      margin-bottom: 4px;\n",
              "    }\n",
              "\n",
              "    [theme=dark] .colab-df-convert {\n",
              "      background-color: #3B4455;\n",
              "      fill: #D2E3FC;\n",
              "    }\n",
              "\n",
              "    [theme=dark] .colab-df-convert:hover {\n",
              "      background-color: #434B5C;\n",
              "      box-shadow: 0px 1px 3px 1px rgba(0, 0, 0, 0.15);\n",
              "      filter: drop-shadow(0px 1px 2px rgba(0, 0, 0, 0.3));\n",
              "      fill: #FFFFFF;\n",
              "    }\n",
              "  </style>\n",
              "\n",
              "    <script>\n",
              "      const buttonEl =\n",
              "        document.querySelector('#df-3c2fe722-be79-449d-a811-c38863c2cc69 button.colab-df-convert');\n",
              "      buttonEl.style.display =\n",
              "        google.colab.kernel.accessAllowed ? 'block' : 'none';\n",
              "\n",
              "      async function convertToInteractive(key) {\n",
              "        const element = document.querySelector('#df-3c2fe722-be79-449d-a811-c38863c2cc69');\n",
              "        const dataTable =\n",
              "          await google.colab.kernel.invokeFunction('convertToInteractive',\n",
              "                                                    [key], {});\n",
              "        if (!dataTable) return;\n",
              "\n",
              "        const docLinkHtml = 'Like what you see? Visit the ' +\n",
              "          '<a target=\"_blank\" href=https://colab.research.google.com/notebooks/data_table.ipynb>data table notebook</a>'\n",
              "          + ' to learn more about interactive tables.';\n",
              "        element.innerHTML = '';\n",
              "        dataTable['output_type'] = 'display_data';\n",
              "        await google.colab.output.renderOutput(dataTable, element);\n",
              "        const docLink = document.createElement('div');\n",
              "        docLink.innerHTML = docLinkHtml;\n",
              "        element.appendChild(docLink);\n",
              "      }\n",
              "    </script>\n",
              "  </div>\n",
              "  \n",
              "    </div>\n",
              "  </div>\n",
              "  "
            ]
          },
          "metadata": {},
          "execution_count": 11
        }
      ]
    },
    {
      "cell_type": "markdown",
      "source": [
        "# Extract ERA5 data at 10km x 10km resolution"
      ],
      "metadata": {
        "id": "oTlWz_7CMUgD"
      }
    },
    {
      "cell_type": "code",
      "execution_count": 8,
      "metadata": {
        "id": "HGhfttkMP9T9"
      },
      "outputs": [],
      "source": [
        "def fetch_era5_for_blocks(blocks_gdf, start_date, end_date, api_key, daily_vars=None):\n",
        "    \"\"\"\n",
        "    Fetch daily ERA5 data for multiple blocks using their centroids.\n",
        "\n",
        "    Parameters:\n",
        "        blocks_gdf (GeoDataFrame): must have columns 'NAME', 'lat', 'lon'\n",
        "        start_date (str): \"YYYY-MM-DD\"\n",
        "        end_date (str): \"YYYY-MM-DD\"\n",
        "        daily_vars (list): list of daily variable names (default = VBD relevant)\n",
        "\n",
        "    Returns:\n",
        "        pd.DataFrame: combined daily ERA5 data with block info\n",
        "    \"\"\"\n",
        "\n",
        "    if daily_vars is None:\n",
        "        daily_vars = [\n",
        "            \"temperature_2m_mean\",\"temperature_2m_max\",\"temperature_2m_min\",\n",
        "            \"rain_sum\",\"precipitation_sum\",\"relative_humidity_2m_mean\",\n",
        "            \"apparent_temperature_mean\",\"precipitation_hours\",\n",
        "            \"apparent_temperature_max\",\"apparent_temperature_min\",\n",
        "            \"et0_fao_evapotranspiration\",\n",
        "            \"wind_speed_10m_max\",\"wind_gusts_10m_max\",\"wind_direction_10m_dominant\",\n",
        "            \"shortwave_radiation_sum\",\"sunshine_duration\"\n",
        "        ]\n",
        "\n",
        "    # Setup Open-Meteo client\n",
        "    cache_session = requests_cache.CachedSession('.cache', expire_after=-1)\n",
        "    retry_session = retry(cache_session, retries=5, backoff_factor=0.2)\n",
        "    client = openmeteo_requests.Client(session=retry_session)\n",
        "\n",
        "    url = \"https://customer-archive-api.open-meteo.com/v1/archive\"\n",
        "\n",
        "    all_data = []\n",
        "\n",
        "    for idx, row in blocks_gdf.iterrows():\n",
        "        lat, lon = row[\"lat\"], row[\"lon\"]\n",
        "        params = {\n",
        "            \"latitude\": lat,\n",
        "            \"longitude\": lon,\n",
        "            \"start_date\": start_date,\n",
        "            \"end_date\": end_date,\n",
        "            \"daily\": daily_vars,\n",
        "            \"models\": \"era5\",\n",
        "            \"apikey\": api_key\n",
        "        }\n",
        "        responses = client.weather_api(url, params=params)\n",
        "        if not responses:\n",
        "            print(f\"No data for block {row['NAME']}\")\n",
        "            continue\n",
        "        response = responses[0]\n",
        "        daily = response.Daily()\n",
        "\n",
        "        daily_index = pd.date_range(\n",
        "            start=pd.to_datetime(daily.Time(), unit=\"s\", utc=True),\n",
        "            end=pd.to_datetime(daily.TimeEnd(), unit=\"s\", utc=True),\n",
        "            freq=pd.Timedelta(seconds=daily.Interval()),\n",
        "            inclusive=\"left\"\n",
        "        )\n",
        "\n",
        "        daily_data = {\"date\": daily_index, \"NAME\": row[\"NAME\"], \"DISTRICT\": row[\"DISTRICT\"], \"C_CODE11\": row[\"C_CODE11\"]}\n",
        "        for i, var in enumerate(daily_vars):\n",
        "            daily_data[var] = daily.Variables(i).ValuesAsNumpy()\n",
        "\n",
        "        all_data.append(pd.DataFrame(daily_data))\n",
        "\n",
        "    combined_df = pd.concat(all_data, ignore_index=True)\n",
        "    return combined_df\n"
      ]
    },
    {
      "cell_type": "code",
      "source": [
        "start_date = \"2024-01-01\"\n",
        "end_date = \"2025-10-01\"\n",
        "api_key=\"FrBHTVq25VDS9Lfu\"\n",
        "era5_df = fetch_era5_for_blocks(blocks_shp, start_date, end_date, api_key)\n",
        "print(era5_df.head())"
      ],
      "metadata": {
        "id": "CGlVMMdinZ2j",
        "outputId": "37f91456-5e7a-48bf-e635-7eec0bb8ba52",
        "colab": {
          "base_uri": "https://localhost:8080/",
          "height": 547
        }
      },
      "execution_count": 10,
      "outputs": [
        {
          "output_type": "error",
          "ename": "KeyError",
          "evalue": "'lat'",
          "traceback": [
            "\u001b[0;31m---------------------------------------------------------------------------\u001b[0m",
            "\u001b[0;31mKeyError\u001b[0m                                  Traceback (most recent call last)",
            "\u001b[0;32m/usr/local/lib/python3.12/dist-packages/pandas/core/indexes/base.py\u001b[0m in \u001b[0;36mget_loc\u001b[0;34m(self, key)\u001b[0m\n\u001b[1;32m   3804\u001b[0m         \u001b[0;32mtry\u001b[0m\u001b[0;34m:\u001b[0m\u001b[0;34m\u001b[0m\u001b[0;34m\u001b[0m\u001b[0m\n\u001b[0;32m-> 3805\u001b[0;31m             \u001b[0;32mreturn\u001b[0m \u001b[0mself\u001b[0m\u001b[0;34m.\u001b[0m\u001b[0m_engine\u001b[0m\u001b[0;34m.\u001b[0m\u001b[0mget_loc\u001b[0m\u001b[0;34m(\u001b[0m\u001b[0mcasted_key\u001b[0m\u001b[0;34m)\u001b[0m\u001b[0;34m\u001b[0m\u001b[0;34m\u001b[0m\u001b[0m\n\u001b[0m\u001b[1;32m   3806\u001b[0m         \u001b[0;32mexcept\u001b[0m \u001b[0mKeyError\u001b[0m \u001b[0;32mas\u001b[0m \u001b[0merr\u001b[0m\u001b[0;34m:\u001b[0m\u001b[0;34m\u001b[0m\u001b[0;34m\u001b[0m\u001b[0m\n",
            "\u001b[0;32mindex.pyx\u001b[0m in \u001b[0;36mpandas._libs.index.IndexEngine.get_loc\u001b[0;34m()\u001b[0m\n",
            "\u001b[0;32mindex.pyx\u001b[0m in \u001b[0;36mpandas._libs.index.IndexEngine.get_loc\u001b[0;34m()\u001b[0m\n",
            "\u001b[0;32mpandas/_libs/hashtable_class_helper.pxi\u001b[0m in \u001b[0;36mpandas._libs.hashtable.PyObjectHashTable.get_item\u001b[0;34m()\u001b[0m\n",
            "\u001b[0;32mpandas/_libs/hashtable_class_helper.pxi\u001b[0m in \u001b[0;36mpandas._libs.hashtable.PyObjectHashTable.get_item\u001b[0;34m()\u001b[0m\n",
            "\u001b[0;31mKeyError\u001b[0m: 'lat'",
            "\nThe above exception was the direct cause of the following exception:\n",
            "\u001b[0;31mKeyError\u001b[0m                                  Traceback (most recent call last)",
            "\u001b[0;32m/tmp/ipython-input-4196046098.py\u001b[0m in \u001b[0;36m<cell line: 0>\u001b[0;34m()\u001b[0m\n\u001b[1;32m      2\u001b[0m \u001b[0mend_date\u001b[0m \u001b[0;34m=\u001b[0m \u001b[0;34m\"2025-10-01\"\u001b[0m\u001b[0;34m\u001b[0m\u001b[0;34m\u001b[0m\u001b[0m\n\u001b[1;32m      3\u001b[0m \u001b[0mapi_key\u001b[0m\u001b[0;34m=\u001b[0m\u001b[0;34m\"FrBHTVq25VDS9Lfu\"\u001b[0m\u001b[0;34m\u001b[0m\u001b[0;34m\u001b[0m\u001b[0m\n\u001b[0;32m----> 4\u001b[0;31m \u001b[0mera5_df\u001b[0m \u001b[0;34m=\u001b[0m \u001b[0mfetch_era5_for_blocks\u001b[0m\u001b[0;34m(\u001b[0m\u001b[0mblocks_shp\u001b[0m\u001b[0;34m,\u001b[0m \u001b[0mstart_date\u001b[0m\u001b[0;34m,\u001b[0m \u001b[0mend_date\u001b[0m\u001b[0;34m,\u001b[0m \u001b[0mapi_key\u001b[0m\u001b[0;34m)\u001b[0m\u001b[0;34m\u001b[0m\u001b[0;34m\u001b[0m\u001b[0m\n\u001b[0m\u001b[1;32m      5\u001b[0m \u001b[0mprint\u001b[0m\u001b[0;34m(\u001b[0m\u001b[0mera5_df\u001b[0m\u001b[0;34m.\u001b[0m\u001b[0mhead\u001b[0m\u001b[0;34m(\u001b[0m\u001b[0;34m)\u001b[0m\u001b[0;34m)\u001b[0m\u001b[0;34m\u001b[0m\u001b[0;34m\u001b[0m\u001b[0m\n",
            "\u001b[0;32m/tmp/ipython-input-1389986055.py\u001b[0m in \u001b[0;36mfetch_era5_for_blocks\u001b[0;34m(blocks_gdf, start_date, end_date, api_key, daily_vars)\u001b[0m\n\u001b[1;32m     34\u001b[0m \u001b[0;34m\u001b[0m\u001b[0m\n\u001b[1;32m     35\u001b[0m     \u001b[0;32mfor\u001b[0m \u001b[0midx\u001b[0m\u001b[0;34m,\u001b[0m \u001b[0mrow\u001b[0m \u001b[0;32min\u001b[0m \u001b[0mblocks_gdf\u001b[0m\u001b[0;34m.\u001b[0m\u001b[0miterrows\u001b[0m\u001b[0;34m(\u001b[0m\u001b[0;34m)\u001b[0m\u001b[0;34m:\u001b[0m\u001b[0;34m\u001b[0m\u001b[0;34m\u001b[0m\u001b[0m\n\u001b[0;32m---> 36\u001b[0;31m         \u001b[0mlat\u001b[0m\u001b[0;34m,\u001b[0m \u001b[0mlon\u001b[0m \u001b[0;34m=\u001b[0m \u001b[0mrow\u001b[0m\u001b[0;34m[\u001b[0m\u001b[0;34m\"lat\"\u001b[0m\u001b[0;34m]\u001b[0m\u001b[0;34m,\u001b[0m \u001b[0mrow\u001b[0m\u001b[0;34m[\u001b[0m\u001b[0;34m\"lon\"\u001b[0m\u001b[0;34m]\u001b[0m\u001b[0;34m\u001b[0m\u001b[0;34m\u001b[0m\u001b[0m\n\u001b[0m\u001b[1;32m     37\u001b[0m         params = {\n\u001b[1;32m     38\u001b[0m             \u001b[0;34m\"latitude\"\u001b[0m\u001b[0;34m:\u001b[0m \u001b[0mlat\u001b[0m\u001b[0;34m,\u001b[0m\u001b[0;34m\u001b[0m\u001b[0;34m\u001b[0m\u001b[0m\n",
            "\u001b[0;32m/usr/local/lib/python3.12/dist-packages/pandas/core/series.py\u001b[0m in \u001b[0;36m__getitem__\u001b[0;34m(self, key)\u001b[0m\n\u001b[1;32m   1119\u001b[0m \u001b[0;34m\u001b[0m\u001b[0m\n\u001b[1;32m   1120\u001b[0m         \u001b[0;32melif\u001b[0m \u001b[0mkey_is_scalar\u001b[0m\u001b[0;34m:\u001b[0m\u001b[0;34m\u001b[0m\u001b[0;34m\u001b[0m\u001b[0m\n\u001b[0;32m-> 1121\u001b[0;31m             \u001b[0;32mreturn\u001b[0m \u001b[0mself\u001b[0m\u001b[0;34m.\u001b[0m\u001b[0m_get_value\u001b[0m\u001b[0;34m(\u001b[0m\u001b[0mkey\u001b[0m\u001b[0;34m)\u001b[0m\u001b[0;34m\u001b[0m\u001b[0;34m\u001b[0m\u001b[0m\n\u001b[0m\u001b[1;32m   1122\u001b[0m \u001b[0;34m\u001b[0m\u001b[0m\n\u001b[1;32m   1123\u001b[0m         \u001b[0;31m# Convert generator to list before going through hashable part\u001b[0m\u001b[0;34m\u001b[0m\u001b[0;34m\u001b[0m\u001b[0m\n",
            "\u001b[0;32m/usr/local/lib/python3.12/dist-packages/pandas/core/series.py\u001b[0m in \u001b[0;36m_get_value\u001b[0;34m(self, label, takeable)\u001b[0m\n\u001b[1;32m   1235\u001b[0m \u001b[0;34m\u001b[0m\u001b[0m\n\u001b[1;32m   1236\u001b[0m         \u001b[0;31m# Similar to Index.get_value, but we do not fall back to positional\u001b[0m\u001b[0;34m\u001b[0m\u001b[0;34m\u001b[0m\u001b[0m\n\u001b[0;32m-> 1237\u001b[0;31m         \u001b[0mloc\u001b[0m \u001b[0;34m=\u001b[0m \u001b[0mself\u001b[0m\u001b[0;34m.\u001b[0m\u001b[0mindex\u001b[0m\u001b[0;34m.\u001b[0m\u001b[0mget_loc\u001b[0m\u001b[0;34m(\u001b[0m\u001b[0mlabel\u001b[0m\u001b[0;34m)\u001b[0m\u001b[0;34m\u001b[0m\u001b[0;34m\u001b[0m\u001b[0m\n\u001b[0m\u001b[1;32m   1238\u001b[0m \u001b[0;34m\u001b[0m\u001b[0m\n\u001b[1;32m   1239\u001b[0m         \u001b[0;32mif\u001b[0m \u001b[0mis_integer\u001b[0m\u001b[0;34m(\u001b[0m\u001b[0mloc\u001b[0m\u001b[0;34m)\u001b[0m\u001b[0;34m:\u001b[0m\u001b[0;34m\u001b[0m\u001b[0;34m\u001b[0m\u001b[0m\n",
            "\u001b[0;32m/usr/local/lib/python3.12/dist-packages/pandas/core/indexes/base.py\u001b[0m in \u001b[0;36mget_loc\u001b[0;34m(self, key)\u001b[0m\n\u001b[1;32m   3810\u001b[0m             ):\n\u001b[1;32m   3811\u001b[0m                 \u001b[0;32mraise\u001b[0m \u001b[0mInvalidIndexError\u001b[0m\u001b[0;34m(\u001b[0m\u001b[0mkey\u001b[0m\u001b[0;34m)\u001b[0m\u001b[0;34m\u001b[0m\u001b[0;34m\u001b[0m\u001b[0m\n\u001b[0;32m-> 3812\u001b[0;31m             \u001b[0;32mraise\u001b[0m \u001b[0mKeyError\u001b[0m\u001b[0;34m(\u001b[0m\u001b[0mkey\u001b[0m\u001b[0;34m)\u001b[0m \u001b[0;32mfrom\u001b[0m \u001b[0merr\u001b[0m\u001b[0;34m\u001b[0m\u001b[0;34m\u001b[0m\u001b[0m\n\u001b[0m\u001b[1;32m   3813\u001b[0m         \u001b[0;32mexcept\u001b[0m \u001b[0mTypeError\u001b[0m\u001b[0;34m:\u001b[0m\u001b[0;34m\u001b[0m\u001b[0;34m\u001b[0m\u001b[0m\n\u001b[1;32m   3814\u001b[0m             \u001b[0;31m# If we have a listlike key, _check_indexing_error will raise\u001b[0m\u001b[0;34m\u001b[0m\u001b[0;34m\u001b[0m\u001b[0m\n",
            "\u001b[0;31mKeyError\u001b[0m: 'lat'"
          ]
        }
      ]
    },
    {
      "cell_type": "code",
      "source": [
        "weather_df.to_csv(\"climate_data/openmeteo_era5_grid_data_10kmx10km_2024-01-01_to_2025-09-30.csv\", index=False)"
      ],
      "metadata": {
        "id": "Gfp1tV-sRVHg"
      },
      "execution_count": null,
      "outputs": []
    },
    {
      "cell_type": "code",
      "execution_count": null,
      "metadata": {
        "id": "vMFZ5TgaryzI"
      },
      "outputs": [],
      "source": [
        "def get_season(month):\n",
        "    if month in [3, 4, 5]:\n",
        "        return 'Summer (Mar-May)'\n",
        "    elif month in [6, 7, 8]:\n",
        "        return 'Monsoon (Jun-Aug)'\n",
        "    elif month in [9, 10, 11]:\n",
        "        return 'Post-Monsoon (Sep-Nov)'\n",
        "    else:\n",
        "        return 'Winter (Dec-Feb)'"
      ]
    },
    {
      "cell_type": "code",
      "execution_count": null,
      "metadata": {
        "id": "SJ4avIQir1NZ"
      },
      "outputs": [],
      "source": [
        "all_weather.drop(columns=[\"month_num\"], inplace=True)"
      ]
    },
    {
      "cell_type": "code",
      "execution_count": null,
      "metadata": {
        "id": "EQI0GdXLr5QJ"
      },
      "outputs": [],
      "source": [
        "all_weather['season'] = all_weather[\"time\"].dt.month.apply(get_season)"
      ]
    },
    {
      "cell_type": "code",
      "execution_count": null,
      "metadata": {
        "id": "a7ykmEhC2Gzz"
      },
      "outputs": [],
      "source": [
        "all_weather[\"diurnal_temperature_range\"]=all_weather[\"temperature_2m_max\"]-all_weather[\"temperature_2m_min\"]"
      ]
    },
    {
      "cell_type": "code",
      "execution_count": null,
      "metadata": {
        "id": "rCDH78IpeqBA"
      },
      "outputs": [],
      "source": [
        "all_weather.to_csv(\"climate_data/openmeteo_era5_grid_data_10kmx10km_2019-01-01_to_2025-06-29.csv\", index=False)"
      ]
    },
    {
      "cell_type": "markdown",
      "metadata": {
        "id": "fmXlfYvUQISV"
      },
      "source": [
        "# Climate - Aggregate API data (at grid-level) to block & day"
      ]
    },
    {
      "cell_type": "code",
      "execution_count": null,
      "metadata": {
        "id": "C10kp0tgQG-x"
      },
      "outputs": [],
      "source": [
        "all_weather=pd.read_csv(\"climate_data/openmeteo_era5_grid_data_10kmx10km_2019-01-01_to_2025-06-29.csv\")"
      ]
    },
    {
      "cell_type": "code",
      "execution_count": null,
      "metadata": {
        "id": "sNfHMTiE-sw7"
      },
      "outputs": [],
      "source": [
        "all_weather[\"time\"]=pd.to_datetime(all_weather[\"time\"])"
      ]
    },
    {
      "cell_type": "code",
      "execution_count": null,
      "metadata": {
        "id": "_tXwjuolQUVo"
      },
      "outputs": [],
      "source": [
        "group_cols = [\"dtname\", \"sdtname\", \"time\"]\n",
        "\n",
        "# Compute mean values per block and date\n",
        "block_daily_climate = all_weather.groupby(group_cols).agg(\n",
        "    {\"temperature_2m_mean\":\"mean\",\n",
        "     \"temperature_2m_max\":\"mean\",\n",
        "     \"temperature_2m_min\":\"mean\",\n",
        "     \"relative_humidity_2m_mean\":\"mean\",\n",
        "     \"rain_sum\":\"sum\",\n",
        "     \"diurnal_temperature_range\":\"mean\"}\n",
        ").reset_index()"
      ]
    },
    {
      "cell_type": "code",
      "execution_count": null,
      "metadata": {
        "colab": {
          "base_uri": "https://localhost:8080/"
        },
        "id": "g3sO9mMNzYhz",
        "outputId": "7ee85e03-24d7-493c-9e96-6a5d410287ac"
      },
      "outputs": [
        {
          "data": {
            "text/plain": [
              "Index(['dtname', 'sdtname', 'time', 'temperature_2m_mean',\n",
              "       'temperature_2m_max', 'temperature_2m_min', 'relative_humidity_2m_mean',\n",
              "       'rain_sum', 'diurnal_temperature_range'],\n",
              "      dtype='object')"
            ]
          },
          "execution_count": 55,
          "metadata": {},
          "output_type": "execute_result"
        }
      ],
      "source": [
        "block_daily_climate.columns"
      ]
    },
    {
      "cell_type": "code",
      "execution_count": null,
      "metadata": {
        "colab": {
          "base_uri": "https://localhost:8080/"
        },
        "id": "HsjQHPsD_YIj",
        "outputId": "5f4aff67-a30a-43ed-a8db-0d4ed0a41389"
      },
      "outputs": [
        {
          "data": {
            "text/plain": [
              "(Timestamp('2019-01-01 00:00:00'), Timestamp('2025-06-29 00:00:00'))"
            ]
          },
          "execution_count": 56,
          "metadata": {},
          "output_type": "execute_result"
        }
      ],
      "source": [
        "block_daily_climate[\"time\"].min(), block_daily_climate[\"time\"].max()"
      ]
    },
    {
      "cell_type": "code",
      "execution_count": null,
      "metadata": {
        "id": "ptUYwcHH0Maz"
      },
      "outputs": [],
      "source": [
        "block_daily_climate[\"season\"]=block_daily_climate[\"time\"].dt.month.apply(get_season)"
      ]
    },
    {
      "cell_type": "code",
      "execution_count": null,
      "metadata": {
        "colab": {
          "base_uri": "https://localhost:8080/",
          "height": 241
        },
        "id": "m8TSFSzc0ykH",
        "outputId": "fad7ae2c-f9d8-4caa-c030-24eee61385c8"
      },
      "outputs": [
        {
          "data": {
            "text/html": [
              "<div>\n",
              "<style scoped>\n",
              "    .dataframe tbody tr th:only-of-type {\n",
              "        vertical-align: middle;\n",
              "    }\n",
              "\n",
              "    .dataframe tbody tr th {\n",
              "        vertical-align: top;\n",
              "    }\n",
              "\n",
              "    .dataframe thead th {\n",
              "        text-align: right;\n",
              "    }\n",
              "</style>\n",
              "<table border=\"1\" class=\"dataframe\">\n",
              "  <thead>\n",
              "    <tr style=\"text-align: right;\">\n",
              "      <th></th>\n",
              "      <th>proportion</th>\n",
              "    </tr>\n",
              "    <tr>\n",
              "      <th>season</th>\n",
              "      <th></th>\n",
              "    </tr>\n",
              "  </thead>\n",
              "  <tbody>\n",
              "    <tr>\n",
              "      <th>Summer</th>\n",
              "      <td>0.271501</td>\n",
              "    </tr>\n",
              "    <tr>\n",
              "      <th>Winter</th>\n",
              "      <td>0.253373</td>\n",
              "    </tr>\n",
              "    <tr>\n",
              "      <th>Monsoon</th>\n",
              "      <td>0.244941</td>\n",
              "    </tr>\n",
              "    <tr>\n",
              "      <th>Post-Monsoon</th>\n",
              "      <td>0.230185</td>\n",
              "    </tr>\n",
              "  </tbody>\n",
              "</table>\n",
              "</div><br><label><b>dtype:</b> float64</label>"
            ],
            "text/plain": [
              "season\n",
              "Summer          0.271501\n",
              "Winter          0.253373\n",
              "Monsoon         0.244941\n",
              "Post-Monsoon    0.230185\n",
              "Name: proportion, dtype: float64"
            ]
          },
          "execution_count": 58,
          "metadata": {},
          "output_type": "execute_result"
        }
      ],
      "source": [
        "block_daily_climate[\"season\"].value_counts(normalize=True)"
      ]
    },
    {
      "cell_type": "code",
      "execution_count": null,
      "metadata": {
        "id": "ru1PqQsvQX_L"
      },
      "outputs": [],
      "source": [
        "block_daily_climate.to_csv(\"dengue_malaria/clean/daily_climate_block.csv\", index=False)"
      ]
    },
    {
      "cell_type": "markdown",
      "metadata": {
        "id": "Ppz4-rQE_Fxc"
      },
      "source": [
        "# Climate - Aggregate API data (at grid-level) to district & day"
      ]
    },
    {
      "cell_type": "code",
      "execution_count": null,
      "metadata": {
        "id": "HYvqIDeKl2q7"
      },
      "outputs": [],
      "source": [
        "all_weather=pd.read_csv(\"climate_data/openmeteo_era5_grid_data_10kmx10km_2019-01-01_to_2025-06-29.csv\")"
      ]
    },
    {
      "cell_type": "code",
      "execution_count": null,
      "metadata": {
        "id": "-UfJHg5tl5CN"
      },
      "outputs": [],
      "source": [
        "all_weather[\"time\"]=pd.to_datetime(all_weather[\"time\"])"
      ]
    },
    {
      "cell_type": "code",
      "execution_count": null,
      "metadata": {
        "id": "kzujNn2H_GYW"
      },
      "outputs": [],
      "source": [
        "agg_district = (\n",
        "    all_weather.groupby(['dtname', 'time'])\n",
        "    .agg({\n",
        "        'temperature_2m_mean': 'mean',\n",
        "        'relative_humidity_2m_mean': 'mean',\n",
        "        'temperature_2m_max': 'mean',\n",
        "        'temperature_2m_min': 'mean',\n",
        "        'rain_sum': 'sum',\n",
        "        'diurnal_temperature_range': 'mean'\n",
        "    })\n",
        "    .reset_index()\n",
        ")\n"
      ]
    },
    {
      "cell_type": "code",
      "execution_count": null,
      "metadata": {
        "colab": {
          "base_uri": "https://localhost:8080/"
        },
        "id": "YYvbVJpnAN_p",
        "outputId": "7cd937c9-8227-4f22-9c5a-117d73e88eff"
      },
      "outputs": [
        {
          "data": {
            "text/plain": [
              "(Timestamp('2019-01-01 00:00:00'), Timestamp('2025-06-29 00:00:00'))"
            ]
          },
          "execution_count": 63,
          "metadata": {},
          "output_type": "execute_result"
        }
      ],
      "source": [
        "agg_district[\"time\"].min(), agg_district[\"time\"].max()"
      ]
    },
    {
      "cell_type": "code",
      "execution_count": null,
      "metadata": {
        "id": "tuzqeUpx0Uk9"
      },
      "outputs": [],
      "source": [
        "agg_district[\"season\"]=agg_district[\"time\"].dt.month.apply(get_season)"
      ]
    },
    {
      "cell_type": "code",
      "execution_count": null,
      "metadata": {
        "colab": {
          "base_uri": "https://localhost:8080/",
          "height": 241
        },
        "id": "8dHV5ish0tPR",
        "outputId": "87054638-b26e-48e3-e10a-c7f28c93b793"
      },
      "outputs": [
        {
          "data": {
            "text/html": [
              "<div>\n",
              "<style scoped>\n",
              "    .dataframe tbody tr th:only-of-type {\n",
              "        vertical-align: middle;\n",
              "    }\n",
              "\n",
              "    .dataframe tbody tr th {\n",
              "        vertical-align: top;\n",
              "    }\n",
              "\n",
              "    .dataframe thead th {\n",
              "        text-align: right;\n",
              "    }\n",
              "</style>\n",
              "<table border=\"1\" class=\"dataframe\">\n",
              "  <thead>\n",
              "    <tr style=\"text-align: right;\">\n",
              "      <th></th>\n",
              "      <th>proportion</th>\n",
              "    </tr>\n",
              "    <tr>\n",
              "      <th>season</th>\n",
              "      <th></th>\n",
              "    </tr>\n",
              "  </thead>\n",
              "  <tbody>\n",
              "    <tr>\n",
              "      <th>Summer</th>\n",
              "      <td>0.271501</td>\n",
              "    </tr>\n",
              "    <tr>\n",
              "      <th>Winter</th>\n",
              "      <td>0.253373</td>\n",
              "    </tr>\n",
              "    <tr>\n",
              "      <th>Monsoon</th>\n",
              "      <td>0.244941</td>\n",
              "    </tr>\n",
              "    <tr>\n",
              "      <th>Post-Monsoon</th>\n",
              "      <td>0.230185</td>\n",
              "    </tr>\n",
              "  </tbody>\n",
              "</table>\n",
              "</div><br><label><b>dtype:</b> float64</label>"
            ],
            "text/plain": [
              "season\n",
              "Summer          0.271501\n",
              "Winter          0.253373\n",
              "Monsoon         0.244941\n",
              "Post-Monsoon    0.230185\n",
              "Name: proportion, dtype: float64"
            ]
          },
          "execution_count": 65,
          "metadata": {},
          "output_type": "execute_result"
        }
      ],
      "source": [
        "agg_district[\"season\"].value_counts(normalize=True)"
      ]
    },
    {
      "cell_type": "code",
      "execution_count": null,
      "metadata": {
        "colab": {
          "base_uri": "https://localhost:8080/"
        },
        "id": "BQYnmuFu7-Lc",
        "outputId": "62b02756-14a9-4f95-9c51-6b4dd21f2e01"
      },
      "outputs": [
        {
          "data": {
            "text/plain": [
              "Index(['dtname', 'time', 'temperature_2m_mean', 'relative_humidity_2m_mean',\n",
              "       'temperature_2m_max', 'temperature_2m_min', 'rain_sum',\n",
              "       'diurnal_temperature_range', 'season'],\n",
              "      dtype='object')"
            ]
          },
          "execution_count": 67,
          "metadata": {},
          "output_type": "execute_result"
        }
      ],
      "source": [
        "agg_district.columns"
      ]
    },
    {
      "cell_type": "code",
      "execution_count": null,
      "metadata": {
        "id": "Tt6hY1yWmTrd"
      },
      "outputs": [],
      "source": [
        "agg_district.to_csv(\"dengue_malaria/clean/daily_climate_district.csv\", index=False)"
      ]
    },
    {
      "cell_type": "code",
      "execution_count": null,
      "metadata": {
        "id": "Xjj_DnX3V9Z9"
      },
      "outputs": [],
      "source": [
        "# The End!"
      ]
    }
  ],
  "metadata": {
    "colab": {
      "collapsed_sections": [
        "V-0mQ5hCOVWN",
        "1cYy5Wf9c_YT",
        "dFFNK9ux6Hk_"
      ],
      "provenance": []
    },
    "kernelspec": {
      "display_name": "Python 3",
      "name": "python3"
    },
    "language_info": {
      "name": "python"
    }
  },
  "nbformat": 4,
  "nbformat_minor": 0
}