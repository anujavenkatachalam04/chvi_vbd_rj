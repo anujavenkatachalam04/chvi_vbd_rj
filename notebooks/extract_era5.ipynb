{
  "cells": [
    {
      "cell_type": "code",
      "source": [
        "!pip install -r https://raw.githubusercontent.com/anujavenkatachalam04/chvi_vbd_rj/main/requirements.txt"
      ],
      "metadata": {
        "id": "XNJGYllMimdQ"
      },
      "execution_count": 5,
      "outputs": []
    },
    {
      "cell_type": "code",
      "source": [
        "import os\n",
        "import pandas as pd\n",
        "import geopandas as gpd\n",
        "import requests\n",
        "from tqdm import tqdm\n",
        "import numpy as np\n",
        "import matplotlib.pyplot as plt\n",
        "import seaborn as sns\n",
        "from google.colab import drive\n",
        "drive.mount('/content/drive')\n",
        "import geopandas as gpd\n",
        "from shapely.geometry import Point\n",
        "import uuid\n"
      ],
      "metadata": {
        "id": "g5JoHTMxiwek",
        "outputId": "cf4bf733-a38a-4fbd-c52b-d027c25e90dd",
        "colab": {
          "base_uri": "https://localhost:8080/"
        }
      },
      "execution_count": 4,
      "outputs": [
        {
          "output_type": "stream",
          "name": "stdout",
          "text": [
            "Drive already mounted at /content/drive; to attempt to forcibly remount, call drive.mount(\"/content/drive\", force_remount=True).\n"
          ]
        }
      ]
    },
    {
      "cell_type": "code",
      "execution_count": 6,
      "metadata": {
        "id": "6IfTIUpI6m27"
      },
      "outputs": [],
      "source": [
        "os.chdir(\"/content/drive/MyDrive/CHVI\")\n"
      ]
    },
    {
      "cell_type": "code",
      "source": [
        "blocks_shp=gpd.read_file(\"5_Shapefiles/SUBDISTRICT_11/Rajasthan_Blocks.geojson\")"
      ],
      "metadata": {
        "id": "DcTB1Q8YV167"
      },
      "execution_count": 7,
      "outputs": []
    },
    {
      "cell_type": "code",
      "source": [
        "grid=gpd.read_file(\"5_Shapefiles/Rajasthan_10kmx10km_grid.geojson\")"
      ],
      "metadata": {
        "id": "JvjmCyXniAu6"
      },
      "execution_count": 8,
      "outputs": []
    },
    {
      "cell_type": "code",
      "source": [
        "import os\n",
        "import pandas as pd\n",
        "import requests_cache\n",
        "from retry_requests import retry\n",
        "from dotenv import load_dotenv\n",
        "import openmeteo_requests\n",
        "\n",
        "# Load API key from .env\n",
        "load_dotenv()\n",
        "OPENMETEO_API_KEY = os.getenv(\"OPENMETEO_API_KEY\")"
      ],
      "metadata": {
        "id": "2BhiRPNBiCvO"
      },
      "execution_count": 9,
      "outputs": []
    },
    {
      "cell_type": "code",
      "source": [
        "OPENMETEO_API_KEY"
      ],
      "metadata": {
        "id": "tdKBA7jEiIP2"
      },
      "execution_count": 11,
      "outputs": []
    },
    {
      "cell_type": "markdown",
      "source": [
        "# Extract ERA5 data at 10km x 10km resolution"
      ],
      "metadata": {
        "id": "oTlWz_7CMUgD"
      }
    },
    {
      "cell_type": "code",
      "execution_count": null,
      "metadata": {
        "colab": {
          "base_uri": "https://localhost:8080/"
        },
        "id": "HGhfttkMP9T9",
        "outputId": "b246ec46-4a63-4c8e-b224-a2972627e2af"
      },
      "outputs": [
        {
          "output_type": "stream",
          "name": "stderr",
          "text": [
            "100%|██████████| 3420/3420 [13:01<00:00,  4.37it/s]\n"
          ]
        }
      ],
      "source": [
        "import requests\n",
        "import pandas as pd\n",
        "from tqdm import tqdm\n",
        "\n",
        "start_date = \"2024-01-01\"\n",
        "end_date = \"2025-09-30\"\n",
        "\n",
        "base_url = \"https://archive-api.open-meteo.com/v1/era5\"\n",
        "\n",
        "# Convert list fields to comma-separated strings as required by API\n",
        "params = {\n",
        "\n",
        "    \"daily\": [\n",
        "      \"temperature_2m_max\", \"temperature_2m_min\",\n",
        "      \"\"\n",
        "     \"relative_humidity_2m_mean\", \"precipitation_sum\"\n",
        "    ],\n",
        "    \"timezone\": \"Asia/Kolkata\",\n",
        "    \"start_date\": start_date,\n",
        "    \"end_date\": end_date,\n",
        "    \"apikey\": \"FrBHTVq25VDS9Lfu\"\n",
        "}\n",
        "\n",
        "all_data = []\n",
        "session = requests.Session()  # Reuse TCP connection\n",
        "\n",
        "for idx, row in tqdm(grid_clipped.iterrows(), total=len(grid_clipped)):\n",
        "    lat, lon = row.geometry.y, row.geometry.x\n",
        "\n",
        "    try:\n",
        "        response = session.get(base_url, params={**params, \"latitude\": lat, \"longitude\": lon}, timeout=10)\n",
        "        response.raise_for_status()  # Raise exception for HTTP errors\n",
        "\n",
        "        data = response.json()\n",
        "        daily = data.get(\"daily\")\n",
        "\n",
        "        if daily:\n",
        "            daily_df = pd.DataFrame(daily)\n",
        "            daily_df[\"latitude\"] = lat\n",
        "            daily_df[\"longitude\"] = lon\n",
        "            daily_df[\"point_id\"] = idx\n",
        "            daily_df[\"DISTRICT\"] = row[\"DISTRICT\"]\n",
        "            daily_df[\"NAME\"] = row[\"NAME\"]\n",
        "            all_data.append(daily_df)\n",
        "        else:\n",
        "            print(f\"No daily data for point {idx} ({lat}, {lon})\")\n",
        "\n",
        "    except Exception as e:\n",
        "        print(f\"Request failed for point {idx} ({lat}, {lon}): {e}\")\n",
        "\n",
        "session.close()\n",
        "\n",
        "# Combine all data\n",
        "if all_data:\n",
        "    weather_df = pd.concat(all_data, ignore_index=True)\n",
        "else:\n",
        "    weather_df = pd.DataFrame()\n"
      ]
    },
    {
      "cell_type": "code",
      "source": [
        "weather_df.to_csv(\"climate_data/openmeteo_era5_grid_data_10kmx10km_2024-01-01_to_2025-09-30.csv\", index=False)"
      ],
      "metadata": {
        "id": "Gfp1tV-sRVHg"
      },
      "execution_count": null,
      "outputs": []
    },
    {
      "cell_type": "code",
      "execution_count": null,
      "metadata": {
        "id": "vMFZ5TgaryzI"
      },
      "outputs": [],
      "source": [
        "def get_season(month):\n",
        "    if month in [3, 4, 5]:\n",
        "        return 'Summer (Mar-May)'\n",
        "    elif month in [6, 7, 8]:\n",
        "        return 'Monsoon (Jun-Aug)'\n",
        "    elif month in [9, 10, 11]:\n",
        "        return 'Post-Monsoon (Sep-Nov)'\n",
        "    else:\n",
        "        return 'Winter (Dec-Feb)'"
      ]
    },
    {
      "cell_type": "code",
      "execution_count": null,
      "metadata": {
        "id": "SJ4avIQir1NZ"
      },
      "outputs": [],
      "source": [
        "all_weather.drop(columns=[\"month_num\"], inplace=True)"
      ]
    },
    {
      "cell_type": "code",
      "execution_count": null,
      "metadata": {
        "id": "EQI0GdXLr5QJ"
      },
      "outputs": [],
      "source": [
        "all_weather['season'] = all_weather[\"time\"].dt.month.apply(get_season)"
      ]
    },
    {
      "cell_type": "code",
      "execution_count": null,
      "metadata": {
        "id": "a7ykmEhC2Gzz"
      },
      "outputs": [],
      "source": [
        "all_weather[\"diurnal_temperature_range\"]=all_weather[\"temperature_2m_max\"]-all_weather[\"temperature_2m_min\"]"
      ]
    },
    {
      "cell_type": "code",
      "execution_count": null,
      "metadata": {
        "id": "rCDH78IpeqBA"
      },
      "outputs": [],
      "source": [
        "all_weather.to_csv(\"climate_data/openmeteo_era5_grid_data_10kmx10km_2019-01-01_to_2025-06-29.csv\", index=False)"
      ]
    },
    {
      "cell_type": "markdown",
      "metadata": {
        "id": "fmXlfYvUQISV"
      },
      "source": [
        "# Climate - Aggregate API data (at grid-level) to block & day"
      ]
    },
    {
      "cell_type": "code",
      "execution_count": null,
      "metadata": {
        "id": "C10kp0tgQG-x"
      },
      "outputs": [],
      "source": [
        "all_weather=pd.read_csv(\"climate_data/openmeteo_era5_grid_data_10kmx10km_2019-01-01_to_2025-06-29.csv\")"
      ]
    },
    {
      "cell_type": "code",
      "execution_count": null,
      "metadata": {
        "id": "sNfHMTiE-sw7"
      },
      "outputs": [],
      "source": [
        "all_weather[\"time\"]=pd.to_datetime(all_weather[\"time\"])"
      ]
    },
    {
      "cell_type": "code",
      "execution_count": null,
      "metadata": {
        "id": "_tXwjuolQUVo"
      },
      "outputs": [],
      "source": [
        "group_cols = [\"dtname\", \"sdtname\", \"time\"]\n",
        "\n",
        "# Compute mean values per block and date\n",
        "block_daily_climate = all_weather.groupby(group_cols).agg(\n",
        "    {\"temperature_2m_mean\":\"mean\",\n",
        "     \"temperature_2m_max\":\"mean\",\n",
        "     \"temperature_2m_min\":\"mean\",\n",
        "     \"relative_humidity_2m_mean\":\"mean\",\n",
        "     \"rain_sum\":\"sum\",\n",
        "     \"diurnal_temperature_range\":\"mean\"}\n",
        ").reset_index()"
      ]
    },
    {
      "cell_type": "code",
      "execution_count": null,
      "metadata": {
        "colab": {
          "base_uri": "https://localhost:8080/"
        },
        "id": "g3sO9mMNzYhz",
        "outputId": "7ee85e03-24d7-493c-9e96-6a5d410287ac"
      },
      "outputs": [
        {
          "data": {
            "text/plain": [
              "Index(['dtname', 'sdtname', 'time', 'temperature_2m_mean',\n",
              "       'temperature_2m_max', 'temperature_2m_min', 'relative_humidity_2m_mean',\n",
              "       'rain_sum', 'diurnal_temperature_range'],\n",
              "      dtype='object')"
            ]
          },
          "execution_count": 55,
          "metadata": {},
          "output_type": "execute_result"
        }
      ],
      "source": [
        "block_daily_climate.columns"
      ]
    },
    {
      "cell_type": "code",
      "execution_count": null,
      "metadata": {
        "colab": {
          "base_uri": "https://localhost:8080/"
        },
        "id": "HsjQHPsD_YIj",
        "outputId": "5f4aff67-a30a-43ed-a8db-0d4ed0a41389"
      },
      "outputs": [
        {
          "data": {
            "text/plain": [
              "(Timestamp('2019-01-01 00:00:00'), Timestamp('2025-06-29 00:00:00'))"
            ]
          },
          "execution_count": 56,
          "metadata": {},
          "output_type": "execute_result"
        }
      ],
      "source": [
        "block_daily_climate[\"time\"].min(), block_daily_climate[\"time\"].max()"
      ]
    },
    {
      "cell_type": "code",
      "execution_count": null,
      "metadata": {
        "id": "ptUYwcHH0Maz"
      },
      "outputs": [],
      "source": [
        "block_daily_climate[\"season\"]=block_daily_climate[\"time\"].dt.month.apply(get_season)"
      ]
    },
    {
      "cell_type": "code",
      "execution_count": null,
      "metadata": {
        "colab": {
          "base_uri": "https://localhost:8080/",
          "height": 241
        },
        "id": "m8TSFSzc0ykH",
        "outputId": "fad7ae2c-f9d8-4caa-c030-24eee61385c8"
      },
      "outputs": [
        {
          "data": {
            "text/html": [
              "<div>\n",
              "<style scoped>\n",
              "    .dataframe tbody tr th:only-of-type {\n",
              "        vertical-align: middle;\n",
              "    }\n",
              "\n",
              "    .dataframe tbody tr th {\n",
              "        vertical-align: top;\n",
              "    }\n",
              "\n",
              "    .dataframe thead th {\n",
              "        text-align: right;\n",
              "    }\n",
              "</style>\n",
              "<table border=\"1\" class=\"dataframe\">\n",
              "  <thead>\n",
              "    <tr style=\"text-align: right;\">\n",
              "      <th></th>\n",
              "      <th>proportion</th>\n",
              "    </tr>\n",
              "    <tr>\n",
              "      <th>season</th>\n",
              "      <th></th>\n",
              "    </tr>\n",
              "  </thead>\n",
              "  <tbody>\n",
              "    <tr>\n",
              "      <th>Summer</th>\n",
              "      <td>0.271501</td>\n",
              "    </tr>\n",
              "    <tr>\n",
              "      <th>Winter</th>\n",
              "      <td>0.253373</td>\n",
              "    </tr>\n",
              "    <tr>\n",
              "      <th>Monsoon</th>\n",
              "      <td>0.244941</td>\n",
              "    </tr>\n",
              "    <tr>\n",
              "      <th>Post-Monsoon</th>\n",
              "      <td>0.230185</td>\n",
              "    </tr>\n",
              "  </tbody>\n",
              "</table>\n",
              "</div><br><label><b>dtype:</b> float64</label>"
            ],
            "text/plain": [
              "season\n",
              "Summer          0.271501\n",
              "Winter          0.253373\n",
              "Monsoon         0.244941\n",
              "Post-Monsoon    0.230185\n",
              "Name: proportion, dtype: float64"
            ]
          },
          "execution_count": 58,
          "metadata": {},
          "output_type": "execute_result"
        }
      ],
      "source": [
        "block_daily_climate[\"season\"].value_counts(normalize=True)"
      ]
    },
    {
      "cell_type": "code",
      "execution_count": null,
      "metadata": {
        "id": "ru1PqQsvQX_L"
      },
      "outputs": [],
      "source": [
        "block_daily_climate.to_csv(\"dengue_malaria/clean/daily_climate_block.csv\", index=False)"
      ]
    },
    {
      "cell_type": "markdown",
      "metadata": {
        "id": "Ppz4-rQE_Fxc"
      },
      "source": [
        "# Climate - Aggregate API data (at grid-level) to district & day"
      ]
    },
    {
      "cell_type": "code",
      "execution_count": null,
      "metadata": {
        "id": "HYvqIDeKl2q7"
      },
      "outputs": [],
      "source": [
        "all_weather=pd.read_csv(\"climate_data/openmeteo_era5_grid_data_10kmx10km_2019-01-01_to_2025-06-29.csv\")"
      ]
    },
    {
      "cell_type": "code",
      "execution_count": null,
      "metadata": {
        "id": "-UfJHg5tl5CN"
      },
      "outputs": [],
      "source": [
        "all_weather[\"time\"]=pd.to_datetime(all_weather[\"time\"])"
      ]
    },
    {
      "cell_type": "code",
      "execution_count": null,
      "metadata": {
        "id": "kzujNn2H_GYW"
      },
      "outputs": [],
      "source": [
        "agg_district = (\n",
        "    all_weather.groupby(['dtname', 'time'])\n",
        "    .agg({\n",
        "        'temperature_2m_mean': 'mean',\n",
        "        'relative_humidity_2m_mean': 'mean',\n",
        "        'temperature_2m_max': 'mean',\n",
        "        'temperature_2m_min': 'mean',\n",
        "        'rain_sum': 'sum',\n",
        "        'diurnal_temperature_range': 'mean'\n",
        "    })\n",
        "    .reset_index()\n",
        ")\n"
      ]
    },
    {
      "cell_type": "code",
      "execution_count": null,
      "metadata": {
        "colab": {
          "base_uri": "https://localhost:8080/"
        },
        "id": "YYvbVJpnAN_p",
        "outputId": "7cd937c9-8227-4f22-9c5a-117d73e88eff"
      },
      "outputs": [
        {
          "data": {
            "text/plain": [
              "(Timestamp('2019-01-01 00:00:00'), Timestamp('2025-06-29 00:00:00'))"
            ]
          },
          "execution_count": 63,
          "metadata": {},
          "output_type": "execute_result"
        }
      ],
      "source": [
        "agg_district[\"time\"].min(), agg_district[\"time\"].max()"
      ]
    },
    {
      "cell_type": "code",
      "execution_count": null,
      "metadata": {
        "id": "tuzqeUpx0Uk9"
      },
      "outputs": [],
      "source": [
        "agg_district[\"season\"]=agg_district[\"time\"].dt.month.apply(get_season)"
      ]
    },
    {
      "cell_type": "code",
      "execution_count": null,
      "metadata": {
        "colab": {
          "base_uri": "https://localhost:8080/",
          "height": 241
        },
        "id": "8dHV5ish0tPR",
        "outputId": "87054638-b26e-48e3-e10a-c7f28c93b793"
      },
      "outputs": [
        {
          "data": {
            "text/html": [
              "<div>\n",
              "<style scoped>\n",
              "    .dataframe tbody tr th:only-of-type {\n",
              "        vertical-align: middle;\n",
              "    }\n",
              "\n",
              "    .dataframe tbody tr th {\n",
              "        vertical-align: top;\n",
              "    }\n",
              "\n",
              "    .dataframe thead th {\n",
              "        text-align: right;\n",
              "    }\n",
              "</style>\n",
              "<table border=\"1\" class=\"dataframe\">\n",
              "  <thead>\n",
              "    <tr style=\"text-align: right;\">\n",
              "      <th></th>\n",
              "      <th>proportion</th>\n",
              "    </tr>\n",
              "    <tr>\n",
              "      <th>season</th>\n",
              "      <th></th>\n",
              "    </tr>\n",
              "  </thead>\n",
              "  <tbody>\n",
              "    <tr>\n",
              "      <th>Summer</th>\n",
              "      <td>0.271501</td>\n",
              "    </tr>\n",
              "    <tr>\n",
              "      <th>Winter</th>\n",
              "      <td>0.253373</td>\n",
              "    </tr>\n",
              "    <tr>\n",
              "      <th>Monsoon</th>\n",
              "      <td>0.244941</td>\n",
              "    </tr>\n",
              "    <tr>\n",
              "      <th>Post-Monsoon</th>\n",
              "      <td>0.230185</td>\n",
              "    </tr>\n",
              "  </tbody>\n",
              "</table>\n",
              "</div><br><label><b>dtype:</b> float64</label>"
            ],
            "text/plain": [
              "season\n",
              "Summer          0.271501\n",
              "Winter          0.253373\n",
              "Monsoon         0.244941\n",
              "Post-Monsoon    0.230185\n",
              "Name: proportion, dtype: float64"
            ]
          },
          "execution_count": 65,
          "metadata": {},
          "output_type": "execute_result"
        }
      ],
      "source": [
        "agg_district[\"season\"].value_counts(normalize=True)"
      ]
    },
    {
      "cell_type": "code",
      "execution_count": null,
      "metadata": {
        "colab": {
          "base_uri": "https://localhost:8080/"
        },
        "id": "BQYnmuFu7-Lc",
        "outputId": "62b02756-14a9-4f95-9c51-6b4dd21f2e01"
      },
      "outputs": [
        {
          "data": {
            "text/plain": [
              "Index(['dtname', 'time', 'temperature_2m_mean', 'relative_humidity_2m_mean',\n",
              "       'temperature_2m_max', 'temperature_2m_min', 'rain_sum',\n",
              "       'diurnal_temperature_range', 'season'],\n",
              "      dtype='object')"
            ]
          },
          "execution_count": 67,
          "metadata": {},
          "output_type": "execute_result"
        }
      ],
      "source": [
        "agg_district.columns"
      ]
    },
    {
      "cell_type": "code",
      "execution_count": null,
      "metadata": {
        "id": "Tt6hY1yWmTrd"
      },
      "outputs": [],
      "source": [
        "agg_district.to_csv(\"dengue_malaria/clean/daily_climate_district.csv\", index=False)"
      ]
    },
    {
      "cell_type": "code",
      "execution_count": null,
      "metadata": {
        "id": "Xjj_DnX3V9Z9"
      },
      "outputs": [],
      "source": [
        "# The End!"
      ]
    }
  ],
  "metadata": {
    "colab": {
      "collapsed_sections": [
        "V-0mQ5hCOVWN",
        "1cYy5Wf9c_YT",
        "dFFNK9ux6Hk_"
      ],
      "provenance": []
    },
    "kernelspec": {
      "display_name": "Python 3",
      "name": "python3"
    },
    "language_info": {
      "name": "python"
    }
  },
  "nbformat": 4,
  "nbformat_minor": 0
}